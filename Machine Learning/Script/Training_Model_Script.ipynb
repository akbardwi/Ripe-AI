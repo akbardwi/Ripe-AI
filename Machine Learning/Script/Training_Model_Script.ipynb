{
  "cells": [
    {
      "cell_type": "markdown",
      "metadata": {
        "id": "X4qyxI6JdBg_"
      },
      "source": [
        "Kalau Mau Pakai Directory di Google Drive"
      ]
    },
    {
      "cell_type": "code",
      "execution_count": 1,
      "metadata": {
        "colab": {
          "base_uri": "https://localhost:8080/"
        },
        "id": "q8nsAArHvJMr",
        "outputId": "690c2039-f742-4e22-b3bd-1612a0434e56"
      },
      "outputs": [
        {
          "output_type": "stream",
          "name": "stdout",
          "text": [
            "Mounted at /content/drive\n"
          ]
        }
      ],
      "source": [
        "from google.colab import drive\n",
        "drive.mount('/content/drive')"
      ]
    },
    {
      "cell_type": "markdown",
      "metadata": {
        "id": "pjRwKJzFuSIZ"
      },
      "source": [
        "Import Semua Dependencies"
      ]
    },
    {
      "cell_type": "code",
      "execution_count": 2,
      "metadata": {
        "id": "kiAwjQ95cd5h"
      },
      "outputs": [],
      "source": [
        "import os\n",
        "import zipfile\n",
        "import tensorflow as tf\n",
        "from tensorflow.keras import layers\n",
        "from tensorflow.keras import Model\n",
        "from tensorflow.keras.optimizers import SGD, RMSprop,Adam\n",
        "from tensorflow.keras.models import model_from_json\n",
        "from keras_preprocessing.image import ImageDataGenerator\n",
        "from tensorflow.keras.applications.inception_v3 import InceptionV3"
      ]
    },
    {
      "cell_type": "markdown",
      "metadata": {
        "id": "Wc8kE8OkuUIc"
      },
      "source": [
        "Set Directory Dataset"
      ]
    },
    {
      "cell_type": "code",
      "execution_count": 3,
      "metadata": {
        "id": "Eo_I__0Vc5T9"
      },
      "outputs": [],
      "source": [
        "BASE_DIR = '/content/drive/MyDrive/Dataset/Banana'      # Directory dataset \n",
        "TRAINING_DIR    = os.path.join(BASE_DIR, 'Training')\n",
        "TESTING_DIR     = os.path.join(BASE_DIR, 'Test')\n",
        "VALIDATION_DIR  = os.path.join(BASE_DIR, 'Validation')"
      ]
    },
    {
      "cell_type": "markdown",
      "metadata": {
        "id": "n2ZHESQEuW_j"
      },
      "source": [
        "Bikin Image Generator"
      ]
    },
    {
      "cell_type": "code",
      "execution_count": 4,
      "metadata": {
        "colab": {
          "base_uri": "https://localhost:8080/"
        },
        "id": "0ZM9n592IqAI",
        "outputId": "a36c1c0a-5737-46cc-9b0f-387b00be4389"
      },
      "outputs": [
        {
          "output_type": "stream",
          "name": "stdout",
          "text": [
            "Found 506 images belonging to 3 classes.\n",
            "Found 146 images belonging to 3 classes.\n",
            "Found 74 images belonging to 3 classes.\n"
          ]
        }
      ],
      "source": [
        "training_datagen = ImageDataGenerator(\n",
        "      rescale = 1./255,\n",
        "\t    rotation_range=40,\n",
        "      width_shift_range=0.2,\n",
        "      height_shift_range=0.2,\n",
        "      shear_range=0.2,\n",
        "      zoom_range=0.2,\n",
        "      horizontal_flip=True,\n",
        "      fill_mode='nearest')\n",
        "\n",
        "validation_datagen = ImageDataGenerator(rescale = 1./255)\n",
        "\n",
        "train_generator = training_datagen.flow_from_directory(\n",
        "\tTRAINING_DIR,\n",
        "\ttarget_size=(150,150),\n",
        "\tclass_mode='categorical',\n",
        "  batch_size=64\n",
        ")\n",
        "\n",
        "validation_generator = validation_datagen.flow_from_directory(\n",
        "\tVALIDATION_DIR,\n",
        "\ttarget_size=(150,150),\n",
        "\tclass_mode='categorical',\n",
        "  batch_size=64\n",
        ")\n",
        "\n",
        "testing_generator = validation_datagen.flow_from_directory(\n",
        "\tTESTING_DIR,\n",
        "\ttarget_size=(150,150),\n",
        "\tclass_mode='categorical',\n",
        "  batch_size=64\n",
        ")"
      ]
    },
    {
      "cell_type": "markdown",
      "metadata": {
        "id": "avcglONxuaUN"
      },
      "source": [
        "Import Pre-Trained Model"
      ]
    },
    {
      "cell_type": "code",
      "execution_count": 5,
      "metadata": {
        "colab": {
          "base_uri": "https://localhost:8080/"
        },
        "id": "3apg5bfFI9Z-",
        "outputId": "bb680f8d-6e78-49e5-d0bc-ce9812fc53f3"
      },
      "outputs": [
        {
          "output_type": "stream",
          "name": "stdout",
          "text": [
            "Downloading data from https://storage.googleapis.com/tensorflow/keras-applications/inception_v3/inception_v3_weights_tf_dim_ordering_tf_kernels_notop.h5\n",
            "87916544/87910968 [==============================] - 1s 0us/step\n",
            "87924736/87910968 [==============================] - 1s 0us/step\n"
          ]
        }
      ],
      "source": [
        "inception_model = InceptionV3(input_shape = (150, 150, 3),    # ukuran input gambar\n",
        "                                include_top = False,          # hilangkan layer dense\n",
        "                                weights = 'imagenet')         # pakai data weight langsung dari imagenet"
      ]
    },
    {
      "cell_type": "code",
      "execution_count": 6,
      "metadata": {
        "id": "nYT7Qd-KKdCW"
      },
      "outputs": [],
      "source": [
        "# inception_model.summary()"
      ]
    },
    {
      "cell_type": "code",
      "execution_count": 7,
      "metadata": {
        "colab": {
          "base_uri": "https://localhost:8080/"
        },
        "id": "XbkSl825Kizn",
        "outputId": "4ee88646-6434-48b3-a3de-2ec30da6bc8e"
      },
      "outputs": [
        {
          "output_type": "stream",
          "name": "stdout",
          "text": [
            "last layer output shape:  (None, 7, 7, 768)\n"
          ]
        }
      ],
      "source": [
        "last_layer = inception_model.get_layer('mixed5')           # coba eksperimen dengan layer yang berbeda\n",
        "print('last layer output shape: ', last_layer.output_shape)\n",
        "last_output = last_layer.output"
      ]
    },
    {
      "cell_type": "markdown",
      "metadata": {
        "id": "0ouh-BY8udTo"
      },
      "source": [
        "Bikin Layer untuk Output Model"
      ]
    },
    {
      "cell_type": "code",
      "execution_count": 8,
      "metadata": {
        "id": "SBDfEo1uMEmH"
      },
      "outputs": [],
      "source": [
        "x = layers.Flatten()(last_output)\n",
        "x = layers.Dense(1024, activation='relu')(x)      # coba eksperimen dengan banyak layer yang berbeda\n",
        "x = layers.Dropout(0.2)(x)                        # coba eksperimen dengan nilai dropout yang berbeda\n",
        "x = layers.Dense(3, activation='softmax')(x)           \n",
        "\n",
        "model = Model(inception_model.input, x) \n",
        "\n",
        "# model.summary()"
      ]
    },
    {
      "cell_type": "markdown",
      "metadata": {
        "id": "z65qGji4uhIt"
      },
      "source": [
        "Compile Model"
      ]
    },
    {
      "cell_type": "code",
      "execution_count": 9,
      "metadata": {
        "id": "FY-or3n8M8XU"
      },
      "outputs": [],
      "source": [
        "model.compile(optimizer = Adam(),               # coba eksperimen dengan optimizer yang berbeda\n",
        "              loss = 'binary_crossentropy',     # coba eksperimen dengan loss function yang berbeda\n",
        "              metrics = ['accuracy'])"
      ]
    },
    {
      "cell_type": "markdown",
      "metadata": {
        "id": "oz8Yp4ADuj4c"
      },
      "source": [
        "Fit Data to Model"
      ]
    },
    {
      "cell_type": "code",
      "execution_count": null,
      "metadata": {
        "id": "f62i12yEwI6z"
      },
      "outputs": [],
      "source": [
        "history = model.fit(train_generator, epochs=25, steps_per_epoch=8, validation_data = validation_generator, verbose = 1, validation_steps=3)"
      ]
    },
    {
      "cell_type": "code",
      "execution_count": null,
      "metadata": {
        "id": "bNZ5H5UjPt0e"
      },
      "outputs": [],
      "source": [
        "skill = model.evaluate(testing_generator)"
      ]
    },
    {
      "cell_type": "markdown",
      "metadata": {
        "id": "vZkrIprGumOr"
      },
      "source": [
        "Saved Model ke TFLite"
      ]
    },
    {
      "cell_type": "code",
      "execution_count": null,
      "metadata": {
        "id": "2szcapCQPxnP"
      },
      "outputs": [],
      "source": [
        "import pathlib\n",
        "\n",
        "# Export model\n",
        "EXPORT_DIR = '/content/exportmodel'     # Directory export\n",
        "tf.saved_model.save(model, EXPORT_DIR)\n",
        "\n",
        "# Convert model\n",
        "converter = tf.lite.TFLiteConverter.from_saved_model(EXPORT_DIR)\n",
        "tflite_model = converter.convert()      \n",
        "\n",
        "# Save model\n",
        "tflite_model_file = pathlib.Path('/content/foo.tflite')\n",
        "tflite_model_file.write_bytes(tflite_model)"
      ]
    },
    {
      "cell_type": "markdown",
      "metadata": {
        "id": "PyiSuC3KuqT5"
      },
      "source": [
        "Save Model ke TF Serving"
      ]
    },
    {
      "cell_type": "code",
      "execution_count": null,
      "metadata": {
        "id": "YYp-XOY8smn7"
      },
      "outputs": [],
      "source": [
        "import tempfile\n",
        "\n",
        "MODEL_DIR = '/content/model/Banana'        # Directory model. Apakah harus pakai temp directory?\n",
        "version = 1\n",
        "EXPORT_PATH = os.path.join(MODEL_DIR, str(version))   # Path version model\n",
        "if os.path.isdir(EXPORT_PATH):\n",
        "  print(\"\\nPath already exist, cleaning up\\n\")\n",
        "  !rm -r {EXPORT_PATH}\n",
        "\n",
        "tf.keras.models.save_model(\n",
        "    model,\n",
        "    EXPORT_PATH,\n",
        "    overwrite=True,\n",
        "    include_optimizer=True,\n",
        "    save_format=None,\n",
        "    signatures=None,\n",
        "    options=None\n",
        ")\n",
        "\n",
        "print(\"\\nSaved model:\")\n",
        "!ls -l {EXPORT_PATH}"
      ]
    },
    {
      "cell_type": "code",
      "execution_count": null,
      "metadata": {
        "id": "tPjQ9S5vuEw7",
        "colab": {
          "base_uri": "https://localhost:8080/"
        },
        "outputId": "28a79080-2eca-4097-bb3c-0553587c853c"
      },
      "outputs": [
        {
          "output_type": "stream",
          "name": "stdout",
          "text": [
            "\n",
            "MetaGraphDef with tag-set: 'serve' contains the following SignatureDefs:\n",
            "\n",
            "signature_def['__saved_model_init_op']:\n",
            "  The given SavedModel SignatureDef contains the following input(s):\n",
            "  The given SavedModel SignatureDef contains the following output(s):\n",
            "    outputs['__saved_model_init_op'] tensor_info:\n",
            "        dtype: DT_INVALID\n",
            "        shape: unknown_rank\n",
            "        name: NoOp\n",
            "  Method name is: \n",
            "\n",
            "signature_def['serving_default']:\n",
            "  The given SavedModel SignatureDef contains the following input(s):\n",
            "    inputs['input_1'] tensor_info:\n",
            "        dtype: DT_FLOAT\n",
            "        shape: (-1, 150, 150, 3)\n",
            "        name: serving_default_input_1:0\n",
            "  The given SavedModel SignatureDef contains the following output(s):\n",
            "    outputs['dense_1'] tensor_info:\n",
            "        dtype: DT_FLOAT\n",
            "        shape: (-1, 3)\n",
            "        name: StatefulPartitionedCall:0\n",
            "  Method name is: tensorflow/serving/predict\n",
            "\n",
            "Concrete Functions:\n",
            "  Function Name: '__call__'\n",
            "    Option #1\n",
            "      Callable with:\n",
            "        Argument #1\n",
            "          input_1: TensorSpec(shape=(None, 150, 150, 3), dtype=tf.float32, name='input_1')\n",
            "        Argument #2\n",
            "          DType: bool\n",
            "          Value: True\n",
            "        Argument #3\n",
            "          DType: NoneType\n",
            "          Value: None\n",
            "    Option #2\n",
            "      Callable with:\n",
            "        Argument #1\n",
            "          inputs: TensorSpec(shape=(None, 150, 150, 3), dtype=tf.float32, name='inputs')\n",
            "        Argument #2\n",
            "          DType: bool\n",
            "          Value: True\n",
            "        Argument #3\n",
            "          DType: NoneType\n",
            "          Value: None\n",
            "    Option #3\n",
            "      Callable with:\n",
            "        Argument #1\n",
            "          input_1: TensorSpec(shape=(None, 150, 150, 3), dtype=tf.float32, name='input_1')\n",
            "        Argument #2\n",
            "          DType: bool\n",
            "          Value: False\n",
            "        Argument #3\n",
            "          DType: NoneType\n",
            "          Value: None\n",
            "    Option #4\n",
            "      Callable with:\n",
            "        Argument #1\n",
            "          inputs: TensorSpec(shape=(None, 150, 150, 3), dtype=tf.float32, name='inputs')\n",
            "        Argument #2\n",
            "          DType: bool\n",
            "          Value: False\n",
            "        Argument #3\n",
            "          DType: NoneType\n",
            "          Value: None\n",
            "\n",
            "  Function Name: '_default_save_signature'\n",
            "    Option #1\n",
            "      Callable with:\n",
            "        Argument #1\n",
            "          input_1: TensorSpec(shape=(None, 150, 150, 3), dtype=tf.float32, name='input_1')\n",
            "\n",
            "  Function Name: 'call_and_return_all_conditional_losses'\n",
            "    Option #1\n",
            "      Callable with:\n",
            "        Argument #1\n",
            "          input_1: TensorSpec(shape=(None, 150, 150, 3), dtype=tf.float32, name='input_1')\n",
            "        Argument #2\n",
            "          DType: bool\n",
            "          Value: True\n",
            "        Argument #3\n",
            "          DType: NoneType\n",
            "          Value: None\n",
            "    Option #2\n",
            "      Callable with:\n",
            "        Argument #1\n",
            "          input_1: TensorSpec(shape=(None, 150, 150, 3), dtype=tf.float32, name='input_1')\n",
            "        Argument #2\n",
            "          DType: bool\n",
            "          Value: False\n",
            "        Argument #3\n",
            "          DType: NoneType\n",
            "          Value: None\n",
            "    Option #3\n",
            "      Callable with:\n",
            "        Argument #1\n",
            "          inputs: TensorSpec(shape=(None, 150, 150, 3), dtype=tf.float32, name='inputs')\n",
            "        Argument #2\n",
            "          DType: bool\n",
            "          Value: False\n",
            "        Argument #3\n",
            "          DType: NoneType\n",
            "          Value: None\n",
            "    Option #4\n",
            "      Callable with:\n",
            "        Argument #1\n",
            "          inputs: TensorSpec(shape=(None, 150, 150, 3), dtype=tf.float32, name='inputs')\n",
            "        Argument #2\n",
            "          DType: bool\n",
            "          Value: True\n",
            "        Argument #3\n",
            "          DType: NoneType\n",
            "          Value: None\n"
          ]
        }
      ],
      "source": [
        "!saved_model_cli show --dir {EXPORT_PATH} --all"
      ]
    },
    {
      "cell_type": "code",
      "execution_count": null,
      "metadata": {
        "id": "YPiVSX0suJws"
      },
      "outputs": [],
      "source": [
        ""
      ]
    }
  ],
  "metadata": {
    "accelerator": "GPU",
    "colab": {
      "collapsed_sections": [],
      "name": "Training Model Script.ipynb",
      "provenance": []
    },
    "kernelspec": {
      "display_name": "Python 3",
      "name": "python3"
    },
    "language_info": {
      "name": "python"
    }
  },
  "nbformat": 4,
  "nbformat_minor": 0
}