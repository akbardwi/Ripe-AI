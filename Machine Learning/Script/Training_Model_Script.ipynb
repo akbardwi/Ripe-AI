{
  "cells": [
    {
      "cell_type": "markdown",
      "metadata": {
        "id": "view-in-github",
        "colab_type": "text"
      },
      "source": [
        "<a href=\"https://colab.research.google.com/github/akbardwi/Ripe-AI/blob/main/Machine%20Learning/Script/Training_Model_Script.ipynb\" target=\"_parent\"><img src=\"https://colab.research.google.com/assets/colab-badge.svg\" alt=\"Open In Colab\"/></a>"
      ]
    },
    {
      "cell_type": "markdown",
      "metadata": {
        "id": "X4qyxI6JdBg_"
      },
      "source": [
        "Kalau Mau Pakai Directory di Google Drive"
      ]
    },
    {
      "cell_type": "code",
      "execution_count": null,
      "metadata": {
        "colab": {
          "base_uri": "https://localhost:8080/"
        },
        "id": "q8nsAArHvJMr",
        "outputId": "690c2039-f742-4e22-b3bd-1612a0434e56"
      },
      "outputs": [
        {
          "output_type": "stream",
          "name": "stdout",
          "text": [
            "Mounted at /content/drive\n"
          ]
        }
      ],
      "source": [
        "from google.colab import drive\n",
        "drive.mount('/content/drive')"
      ]
    },
    {
      "cell_type": "markdown",
      "metadata": {
        "id": "pjRwKJzFuSIZ"
      },
      "source": [
        "Import Semua Dependencies"
      ]
    },
    {
      "cell_type": "code",
      "execution_count": null,
      "metadata": {
        "id": "kiAwjQ95cd5h"
      },
      "outputs": [],
      "source": [
        "import os\n",
        "import zipfile\n",
        "import tensorflow as tf\n",
        "from tensorflow.keras import layers\n",
        "from tensorflow.keras import Model\n",
        "from tensorflow.keras.optimizers import SGD, RMSprop,Adam\n",
        "from tensorflow.keras.models import model_from_json\n",
        "from keras_preprocessing.image import ImageDataGenerator\n",
        "from tensorflow.keras.applications.inception_v3 import InceptionV3"
      ]
    },
    {
      "cell_type": "markdown",
      "metadata": {
        "id": "Wc8kE8OkuUIc"
      },
      "source": [
        "Set Directory Dataset"
      ]
    },
    {
      "cell_type": "code",
      "execution_count": null,
      "metadata": {
        "id": "Eo_I__0Vc5T9"
      },
      "outputs": [],
      "source": [
        "BASE_DIR = '/content/drive/MyDrive/Dataset/Banana'      # Directory dataset \n",
        "TRAINING_DIR    = os.path.join(BASE_DIR, 'Training')\n",
        "TESTING_DIR     = os.path.join(BASE_DIR, 'Test')\n",
        "VALIDATION_DIR  = os.path.join(BASE_DIR, 'Validation')"
      ]
    },
    {
      "cell_type": "markdown",
      "metadata": {
        "id": "n2ZHESQEuW_j"
      },
      "source": [
        "Bikin Image Generator"
      ]
    },
    {
      "cell_type": "code",
      "execution_count": null,
      "metadata": {
        "colab": {
          "base_uri": "https://localhost:8080/"
        },
        "id": "0ZM9n592IqAI",
        "outputId": "a36c1c0a-5737-46cc-9b0f-387b00be4389"
      },
      "outputs": [
        {
          "output_type": "stream",
          "name": "stdout",
          "text": [
            "Found 506 images belonging to 3 classes.\n",
            "Found 146 images belonging to 3 classes.\n",
            "Found 74 images belonging to 3 classes.\n"
          ]
        }
      ],
      "source": [
        "training_datagen = ImageDataGenerator(\n",
        "      rescale = 1./255,\n",
        "\t    rotation_range=40,\n",
        "      width_shift_range=0.2,\n",
        "      height_shift_range=0.2,\n",
        "      shear_range=0.2,\n",
        "      zoom_range=0.2,\n",
        "      horizontal_flip=True,\n",
        "      fill_mode='nearest')\n",
        "\n",
        "validation_datagen = ImageDataGenerator(rescale = 1./255)\n",
        "\n",
        "train_generator = training_datagen.flow_from_directory(\n",
        "\tTRAINING_DIR,\n",
        "\ttarget_size=(150,150),\n",
        "\tclass_mode='categorical',\n",
        "  batch_size=64\n",
        ")\n",
        "\n",
        "validation_generator = validation_datagen.flow_from_directory(\n",
        "\tVALIDATION_DIR,\n",
        "\ttarget_size=(150,150),\n",
        "\tclass_mode='categorical',\n",
        "  batch_size=64\n",
        ")\n",
        "\n",
        "testing_generator = validation_datagen.flow_from_directory(\n",
        "\tTESTING_DIR,\n",
        "\ttarget_size=(150,150),\n",
        "\tclass_mode='categorical',\n",
        "  batch_size=64\n",
        ")"
      ]
    },
    {
      "cell_type": "markdown",
      "metadata": {
        "id": "avcglONxuaUN"
      },
      "source": [
        "Import Pre-Trained Model"
      ]
    },
    {
      "cell_type": "code",
      "execution_count": null,
      "metadata": {
        "colab": {
          "base_uri": "https://localhost:8080/"
        },
        "id": "3apg5bfFI9Z-",
        "outputId": "bb680f8d-6e78-49e5-d0bc-ce9812fc53f3"
      },
      "outputs": [
        {
          "output_type": "stream",
          "name": "stdout",
          "text": [
            "Downloading data from https://storage.googleapis.com/tensorflow/keras-applications/inception_v3/inception_v3_weights_tf_dim_ordering_tf_kernels_notop.h5\n",
            "87916544/87910968 [==============================] - 1s 0us/step\n",
            "87924736/87910968 [==============================] - 1s 0us/step\n"
          ]
        }
      ],
      "source": [
        "inception_model = InceptionV3(input_shape = (150, 150, 3),    # ukuran input gambar\n",
        "                                include_top = False,          # hilangkan layer dense\n",
        "                                weights = 'imagenet')         # pakai data weight langsung dari imagenet"
      ]
    },
    {
      "cell_type": "code",
      "execution_count": null,
      "metadata": {
        "id": "nYT7Qd-KKdCW"
      },
      "outputs": [],
      "source": [
        "# inception_model.summary()"
      ]
    },
    {
      "cell_type": "code",
      "execution_count": null,
      "metadata": {
        "colab": {
          "base_uri": "https://localhost:8080/"
        },
        "id": "XbkSl825Kizn",
        "outputId": "4ee88646-6434-48b3-a3de-2ec30da6bc8e"
      },
      "outputs": [
        {
          "output_type": "stream",
          "name": "stdout",
          "text": [
            "last layer output shape:  (None, 7, 7, 768)\n"
          ]
        }
      ],
      "source": [
        "last_layer = inception_model.get_layer('mixed5')           # coba eksperimen dengan layer yang berbeda\n",
        "print('last layer output shape: ', last_layer.output_shape)\n",
        "last_output = last_layer.output"
      ]
    },
    {
      "cell_type": "markdown",
      "metadata": {
        "id": "0ouh-BY8udTo"
      },
      "source": [
        "Bikin Layer untuk Output Model"
      ]
    },
    {
      "cell_type": "code",
      "execution_count": null,
      "metadata": {
        "id": "SBDfEo1uMEmH"
      },
      "outputs": [],
      "source": [
        "x = layers.Flatten()(last_output)\n",
        "x = layers.Dense(1024, activation='relu')(x)      # coba eksperimen dengan banyak layer yang berbeda\n",
        "x = layers.Dropout(0.2)(x)                        # coba eksperimen dengan nilai dropout yang berbeda\n",
        "x = layers.Dense(3, activation='softmax')(x)           \n",
        "\n",
        "model = Model(inception_model.input, x) \n",
        "\n",
        "# model.summary()"
      ]
    },
    {
      "cell_type": "markdown",
      "metadata": {
        "id": "z65qGji4uhIt"
      },
      "source": [
        "Compile Model"
      ]
    },
    {
      "cell_type": "code",
      "execution_count": null,
      "metadata": {
        "id": "FY-or3n8M8XU"
      },
      "outputs": [],
      "source": [
        "model.compile(optimizer = Adam(),               # coba eksperimen dengan optimizer yang berbeda\n",
        "              loss = 'binary_crossentropy',     # coba eksperimen dengan loss function yang berbeda\n",
        "              metrics = ['accuracy'])"
      ]
    },
    {
      "cell_type": "markdown",
      "metadata": {
        "id": "oz8Yp4ADuj4c"
      },
      "source": [
        "Fit Data to Model"
      ]
    },
    {
      "cell_type": "code",
      "execution_count": null,
      "metadata": {
        "colab": {
          "base_uri": "https://localhost:8080/"
        },
        "id": "f62i12yEwI6z",
        "outputId": "ee68107b-4e43-444d-ec57-b0ca7be1b5a2"
      },
      "outputs": [
        {
          "output_type": "stream",
          "name": "stdout",
          "text": [
            "Epoch 1/25\n",
            "8/8 [==============================] - 263s 32s/step - loss: 5.8175 - accuracy: 0.5198 - val_loss: 23.6090 - val_accuracy: 0.5548\n",
            "Epoch 2/25\n",
            "8/8 [==============================] - 4s 515ms/step - loss: 0.3431 - accuracy: 0.8794 - val_loss: 184.5068 - val_accuracy: 0.5479\n",
            "Epoch 3/25\n",
            "8/8 [==============================] - 4s 512ms/step - loss: 0.0947 - accuracy: 0.9545 - val_loss: 19295.5703 - val_accuracy: 0.4247\n",
            "Epoch 4/25\n",
            "8/8 [==============================] - 4s 511ms/step - loss: 0.0943 - accuracy: 0.9605 - val_loss: 3462.1887 - val_accuracy: 0.4247\n",
            "Epoch 5/25\n",
            "8/8 [==============================] - 4s 516ms/step - loss: 0.0814 - accuracy: 0.9625 - val_loss: 58245.0977 - val_accuracy: 0.4247\n",
            "Epoch 6/25\n",
            "8/8 [==============================] - 4s 509ms/step - loss: 0.0731 - accuracy: 0.9625 - val_loss: 33118.0000 - val_accuracy: 0.4247\n",
            "Epoch 7/25\n",
            "8/8 [==============================] - 4s 516ms/step - loss: 0.0388 - accuracy: 0.9822 - val_loss: 14314.3945 - val_accuracy: 0.4247\n",
            "Epoch 8/25\n",
            "8/8 [==============================] - 4s 510ms/step - loss: 0.0269 - accuracy: 0.9881 - val_loss: 6396.7114 - val_accuracy: 0.4247\n",
            "Epoch 9/25\n",
            "8/8 [==============================] - 4s 509ms/step - loss: 0.0917 - accuracy: 0.9664 - val_loss: 2783.3391 - val_accuracy: 0.4247\n",
            "Epoch 10/25\n",
            "8/8 [==============================] - 4s 517ms/step - loss: 0.0921 - accuracy: 0.9664 - val_loss: 1933.2012 - val_accuracy: 0.4247\n",
            "Epoch 11/25\n",
            "8/8 [==============================] - 4s 508ms/step - loss: 0.0700 - accuracy: 0.9644 - val_loss: 683.3301 - val_accuracy: 0.4795\n",
            "Epoch 12/25\n",
            "8/8 [==============================] - 4s 510ms/step - loss: 0.0843 - accuracy: 0.9842 - val_loss: 15536.7949 - val_accuracy: 0.4247\n",
            "Epoch 13/25\n",
            "8/8 [==============================] - 4s 511ms/step - loss: 0.0461 - accuracy: 0.9802 - val_loss: 15579.9756 - val_accuracy: 0.4247\n",
            "Epoch 14/25\n",
            "8/8 [==============================] - 4s 512ms/step - loss: 0.0488 - accuracy: 0.9783 - val_loss: 6747.6309 - val_accuracy: 0.4247\n",
            "Epoch 15/25\n",
            "8/8 [==============================] - 4s 518ms/step - loss: 0.0801 - accuracy: 0.9605 - val_loss: 6933.0840 - val_accuracy: 0.4315\n",
            "Epoch 16/25\n",
            "8/8 [==============================] - 4s 513ms/step - loss: 0.0676 - accuracy: 0.9723 - val_loss: 3311.6333 - val_accuracy: 0.4384\n",
            "Epoch 17/25\n",
            "8/8 [==============================] - 4s 519ms/step - loss: 0.0322 - accuracy: 0.9862 - val_loss: 1052.5248 - val_accuracy: 0.4589\n",
            "Epoch 18/25\n",
            "8/8 [==============================] - 4s 517ms/step - loss: 0.0163 - accuracy: 0.9921 - val_loss: 365.9647 - val_accuracy: 0.5137\n",
            "Epoch 19/25\n",
            "8/8 [==============================] - 4s 519ms/step - loss: 0.0182 - accuracy: 0.9941 - val_loss: 68.3874 - val_accuracy: 0.7123\n",
            "Epoch 20/25\n",
            "8/8 [==============================] - 4s 516ms/step - loss: 0.0189 - accuracy: 0.9842 - val_loss: 22.3338 - val_accuracy: 0.6986\n",
            "Epoch 21/25\n",
            "8/8 [==============================] - 4s 511ms/step - loss: 0.0261 - accuracy: 0.9901 - val_loss: 4.3684 - val_accuracy: 0.8014\n",
            "Epoch 22/25\n",
            "8/8 [==============================] - 4s 513ms/step - loss: 0.0172 - accuracy: 0.9941 - val_loss: 2.2818 - val_accuracy: 0.7466\n",
            "Epoch 23/25\n",
            "8/8 [==============================] - 4s 516ms/step - loss: 0.0268 - accuracy: 0.9862 - val_loss: 0.6881 - val_accuracy: 0.8425\n",
            "Epoch 24/25\n",
            "8/8 [==============================] - 4s 505ms/step - loss: 0.0155 - accuracy: 0.9941 - val_loss: 0.4297 - val_accuracy: 0.8562\n",
            "Epoch 25/25\n",
            "8/8 [==============================] - 4s 513ms/step - loss: 0.0193 - accuracy: 0.9881 - val_loss: 0.1388 - val_accuracy: 0.9247\n"
          ]
        }
      ],
      "source": [
        "history = model.fit(train_generator, epochs=25, steps_per_epoch=8, validation_data = validation_generator, verbose = 1, validation_steps=3)"
      ]
    },
    {
      "cell_type": "code",
      "execution_count": null,
      "metadata": {
        "id": "bNZ5H5UjPt0e",
        "colab": {
          "base_uri": "https://localhost:8080/"
        },
        "outputId": "21ca7a66-c37e-4aa6-eb38-61158b56cbdb"
      },
      "outputs": [
        {
          "output_type": "stream",
          "name": "stdout",
          "text": [
            "2/2 [==============================] - 7s 7s/step - loss: 0.0513 - accuracy: 0.9595\n"
          ]
        }
      ],
      "source": [
        "skill = model.evaluate(testing_generator)"
      ]
    },
    {
      "cell_type": "markdown",
      "metadata": {
        "id": "vZkrIprGumOr"
      },
      "source": [
        "Saved Model ke TFLite"
      ]
    },
    {
      "cell_type": "code",
      "execution_count": null,
      "metadata": {
        "id": "2szcapCQPxnP"
      },
      "outputs": [],
      "source": [
        "import pathlib\n",
        "\n",
        "# Export model\n",
        "EXPORT_DIR = '/content/exportmodel'     # Directory export\n",
        "tf.saved_model.save(model, EXPORT_DIR)\n",
        "\n",
        "# Convert model\n",
        "converter = tf.lite.TFLiteConverter.from_saved_model(EXPORT_DIR)\n",
        "tflite_model = converter.convert()      \n",
        "\n",
        "# Save model\n",
        "tflite_model_file = pathlib.Path('/content/foo.tflite')\n",
        "tflite_model_file.write_bytes(tflite_model)"
      ]
    },
    {
      "cell_type": "markdown",
      "metadata": {
        "id": "PyiSuC3KuqT5"
      },
      "source": [
        "Save Model ke TF Serving"
      ]
    },
    {
      "cell_type": "code",
      "execution_count": null,
      "metadata": {
        "id": "YYp-XOY8smn7",
        "colab": {
          "base_uri": "https://localhost:8080/"
        },
        "outputId": "7b8c235f-24fb-4296-cb2c-1a771fecfe7e"
      },
      "outputs": [
        {
          "output_type": "stream",
          "name": "stdout",
          "text": [
            "INFO:tensorflow:Assets written to: /content/model/Banana/1/assets\n",
            "\n",
            "Saved model:\n",
            "total 3052\n",
            "drwxr-xr-x 2 root root    4096 Jun  6 13:41 assets\n",
            "-rw-r--r-- 1 root root  347018 Jun  6 13:41 keras_metadata.pb\n",
            "-rw-r--r-- 1 root root 2768481 Jun  6 13:41 saved_model.pb\n",
            "drwxr-xr-x 2 root root    4096 Jun  6 13:41 variables\n"
          ]
        }
      ],
      "source": [
        "import tempfile\n",
        "\n",
        "MODEL_DIR = '/content/model/Banana'        # Directory model. Apakah harus pakai temp directory?\n",
        "version = 1\n",
        "EXPORT_PATH = os.path.join(MODEL_DIR, str(version))   # Path version model\n",
        "if os.path.isdir(EXPORT_PATH):\n",
        "  print(\"\\nPath already exist, cleaning up\\n\")\n",
        "  !rm -r {EXPORT_PATH}\n",
        "\n",
        "tf.keras.models.save_model(\n",
        "    model,\n",
        "    EXPORT_PATH,\n",
        "    overwrite=True,\n",
        "    include_optimizer=True,\n",
        "    save_format=None,\n",
        "    signatures=None,\n",
        "    options=None\n",
        ")\n",
        "\n",
        "print(\"\\nSaved model:\")\n",
        "!ls -l {EXPORT_PATH}"
      ]
    },
    {
      "cell_type": "code",
      "source": [
        "!zip -r /content/Banana.zip /content/model/Banana"
      ],
      "metadata": {
        "colab": {
          "base_uri": "https://localhost:8080/"
        },
        "id": "7xp_iDLCQENg",
        "outputId": "e34cfcb0-eda7-421f-e8e6-2f829fd8708d"
      },
      "execution_count": null,
      "outputs": [
        {
          "output_type": "stream",
          "name": "stdout",
          "text": [
            "  adding: content/model/Banana/ (stored 0%)\n",
            "  adding: content/model/Banana/1/ (stored 0%)\n",
            "  adding: content/model/Banana/1/saved_model.pb (deflated 92%)\n",
            "  adding: content/model/Banana/1/assets/ (stored 0%)\n",
            "  adding: content/model/Banana/1/variables/ (stored 0%)\n",
            "  adding: content/model/Banana/1/variables/variables.data-00000-of-00001 (deflated 8%)\n",
            "  adding: content/model/Banana/1/variables/variables.index (deflated 79%)\n",
            "  adding: content/model/Banana/1/keras_metadata.pb (deflated 95%)\n"
          ]
        }
      ]
    },
    {
      "cell_type": "code",
      "source": [
        "from google.colab import files\n",
        "files.download('/content/Banana.zip')"
      ],
      "metadata": {
        "colab": {
          "base_uri": "https://localhost:8080/",
          "height": 34
        },
        "id": "6lAwm19qQbGA",
        "outputId": "0b30a46e-63bb-49ba-c649-56f09cabd3b2"
      },
      "execution_count": null,
      "outputs": [
        {
          "output_type": "display_data",
          "data": {
            "text/plain": [
              "<IPython.core.display.Javascript object>"
            ],
            "application/javascript": [
              "\n",
              "    async function download(id, filename, size) {\n",
              "      if (!google.colab.kernel.accessAllowed) {\n",
              "        return;\n",
              "      }\n",
              "      const div = document.createElement('div');\n",
              "      const label = document.createElement('label');\n",
              "      label.textContent = `Downloading \"${filename}\": `;\n",
              "      div.appendChild(label);\n",
              "      const progress = document.createElement('progress');\n",
              "      progress.max = size;\n",
              "      div.appendChild(progress);\n",
              "      document.body.appendChild(div);\n",
              "\n",
              "      const buffers = [];\n",
              "      let downloaded = 0;\n",
              "\n",
              "      const channel = await google.colab.kernel.comms.open(id);\n",
              "      // Send a message to notify the kernel that we're ready.\n",
              "      channel.send({})\n",
              "\n",
              "      for await (const message of channel.messages) {\n",
              "        // Send a message to notify the kernel that we're ready.\n",
              "        channel.send({})\n",
              "        if (message.buffers) {\n",
              "          for (const buffer of message.buffers) {\n",
              "            buffers.push(buffer);\n",
              "            downloaded += buffer.byteLength;\n",
              "            progress.value = downloaded;\n",
              "          }\n",
              "        }\n",
              "      }\n",
              "      const blob = new Blob(buffers, {type: 'application/binary'});\n",
              "      const a = document.createElement('a');\n",
              "      a.href = window.URL.createObjectURL(blob);\n",
              "      a.download = filename;\n",
              "      div.appendChild(a);\n",
              "      a.click();\n",
              "      div.remove();\n",
              "    }\n",
              "  "
            ]
          },
          "metadata": {}
        },
        {
          "output_type": "display_data",
          "data": {
            "text/plain": [
              "<IPython.core.display.Javascript object>"
            ],
            "application/javascript": [
              "download(\"download_0d6f0d3d-be96-472c-8955-b24df3337f06\", \"Banana.zip\", 481569744)"
            ]
          },
          "metadata": {}
        }
      ]
    },
    {
      "cell_type": "code",
      "source": [
        "!cp /content/Banana.zip /content/drive/MyDrive/"
      ],
      "metadata": {
        "id": "0QDAT2rCRiY0"
      },
      "execution_count": null,
      "outputs": []
    },
    {
      "cell_type": "code",
      "execution_count": null,
      "metadata": {
        "id": "tPjQ9S5vuEw7",
        "colab": {
          "base_uri": "https://localhost:8080/"
        },
        "outputId": "28a79080-2eca-4097-bb3c-0553587c853c"
      },
      "outputs": [
        {
          "output_type": "stream",
          "name": "stdout",
          "text": [
            "\n",
            "MetaGraphDef with tag-set: 'serve' contains the following SignatureDefs:\n",
            "\n",
            "signature_def['__saved_model_init_op']:\n",
            "  The given SavedModel SignatureDef contains the following input(s):\n",
            "  The given SavedModel SignatureDef contains the following output(s):\n",
            "    outputs['__saved_model_init_op'] tensor_info:\n",
            "        dtype: DT_INVALID\n",
            "        shape: unknown_rank\n",
            "        name: NoOp\n",
            "  Method name is: \n",
            "\n",
            "signature_def['serving_default']:\n",
            "  The given SavedModel SignatureDef contains the following input(s):\n",
            "    inputs['input_1'] tensor_info:\n",
            "        dtype: DT_FLOAT\n",
            "        shape: (-1, 150, 150, 3)\n",
            "        name: serving_default_input_1:0\n",
            "  The given SavedModel SignatureDef contains the following output(s):\n",
            "    outputs['dense_1'] tensor_info:\n",
            "        dtype: DT_FLOAT\n",
            "        shape: (-1, 3)\n",
            "        name: StatefulPartitionedCall:0\n",
            "  Method name is: tensorflow/serving/predict\n",
            "\n",
            "Concrete Functions:\n",
            "  Function Name: '__call__'\n",
            "    Option #1\n",
            "      Callable with:\n",
            "        Argument #1\n",
            "          input_1: TensorSpec(shape=(None, 150, 150, 3), dtype=tf.float32, name='input_1')\n",
            "        Argument #2\n",
            "          DType: bool\n",
            "          Value: True\n",
            "        Argument #3\n",
            "          DType: NoneType\n",
            "          Value: None\n",
            "    Option #2\n",
            "      Callable with:\n",
            "        Argument #1\n",
            "          inputs: TensorSpec(shape=(None, 150, 150, 3), dtype=tf.float32, name='inputs')\n",
            "        Argument #2\n",
            "          DType: bool\n",
            "          Value: True\n",
            "        Argument #3\n",
            "          DType: NoneType\n",
            "          Value: None\n",
            "    Option #3\n",
            "      Callable with:\n",
            "        Argument #1\n",
            "          input_1: TensorSpec(shape=(None, 150, 150, 3), dtype=tf.float32, name='input_1')\n",
            "        Argument #2\n",
            "          DType: bool\n",
            "          Value: False\n",
            "        Argument #3\n",
            "          DType: NoneType\n",
            "          Value: None\n",
            "    Option #4\n",
            "      Callable with:\n",
            "        Argument #1\n",
            "          inputs: TensorSpec(shape=(None, 150, 150, 3), dtype=tf.float32, name='inputs')\n",
            "        Argument #2\n",
            "          DType: bool\n",
            "          Value: False\n",
            "        Argument #3\n",
            "          DType: NoneType\n",
            "          Value: None\n",
            "\n",
            "  Function Name: '_default_save_signature'\n",
            "    Option #1\n",
            "      Callable with:\n",
            "        Argument #1\n",
            "          input_1: TensorSpec(shape=(None, 150, 150, 3), dtype=tf.float32, name='input_1')\n",
            "\n",
            "  Function Name: 'call_and_return_all_conditional_losses'\n",
            "    Option #1\n",
            "      Callable with:\n",
            "        Argument #1\n",
            "          input_1: TensorSpec(shape=(None, 150, 150, 3), dtype=tf.float32, name='input_1')\n",
            "        Argument #2\n",
            "          DType: bool\n",
            "          Value: True\n",
            "        Argument #3\n",
            "          DType: NoneType\n",
            "          Value: None\n",
            "    Option #2\n",
            "      Callable with:\n",
            "        Argument #1\n",
            "          input_1: TensorSpec(shape=(None, 150, 150, 3), dtype=tf.float32, name='input_1')\n",
            "        Argument #2\n",
            "          DType: bool\n",
            "          Value: False\n",
            "        Argument #3\n",
            "          DType: NoneType\n",
            "          Value: None\n",
            "    Option #3\n",
            "      Callable with:\n",
            "        Argument #1\n",
            "          inputs: TensorSpec(shape=(None, 150, 150, 3), dtype=tf.float32, name='inputs')\n",
            "        Argument #2\n",
            "          DType: bool\n",
            "          Value: False\n",
            "        Argument #3\n",
            "          DType: NoneType\n",
            "          Value: None\n",
            "    Option #4\n",
            "      Callable with:\n",
            "        Argument #1\n",
            "          inputs: TensorSpec(shape=(None, 150, 150, 3), dtype=tf.float32, name='inputs')\n",
            "        Argument #2\n",
            "          DType: bool\n",
            "          Value: True\n",
            "        Argument #3\n",
            "          DType: NoneType\n",
            "          Value: None\n"
          ]
        }
      ],
      "source": [
        "!saved_model_cli show --dir {EXPORT_PATH} --all"
      ]
    },
    {
      "cell_type": "code",
      "source": [
        ""
      ],
      "metadata": {
        "id": "Ytevb2ZkQZvW"
      },
      "execution_count": null,
      "outputs": []
    },
    {
      "cell_type": "code",
      "execution_count": null,
      "metadata": {
        "id": "YPiVSX0suJws"
      },
      "outputs": [],
      "source": [
        ""
      ]
    }
  ],
  "metadata": {
    "accelerator": "GPU",
    "colab": {
      "collapsed_sections": [],
      "name": "Training Model Script.ipynb",
      "provenance": [],
      "include_colab_link": true
    },
    "kernelspec": {
      "display_name": "Python 3",
      "name": "python3"
    },
    "language_info": {
      "name": "python"
    }
  },
  "nbformat": 4,
  "nbformat_minor": 0
}